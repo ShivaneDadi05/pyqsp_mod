{
  "cells": [
    {
      "cell_type": "code",
      "execution_count": 1,
      "metadata": {
        "id": "8oIB82eQzune"
      },
      "outputs": [],
      "source": [
        "import numpy as np\n",
        "import pyqsp\n",
        "from pyqsp import angle_sequence, response\n",
        "import math as mt\n",
        "from pyqsp.poly import (polynomial_generators, PolyTaylorSeries, PolyCosineTX)\n",
        "from pyqsp.LPoly import PolynomialToLaurentForm\n",
        "import matplotlib.pyplot as plt"
      ]
    },
    {
      "cell_type": "code",
      "execution_count": null,
      "metadata": {
        "colab": {
          "base_uri": "https://localhost:8080/",
          "height": 394
        },
        "id": "0Jzr8vwH0Af6",
        "outputId": "ecd8ef1a-abab-43fa-cef1-1f2f2405f391"
      },
      "outputs": [
        {
          "name": "stdout",
          "output_type": "stream",
          "text": [
            "[PolyTaylorSeries] (Cheb) max 0.9000000052343468 is at 2.3085984214033306e-07: normalizing\n",
            "[PolyTaylorSeries] (Cheb) average error = 3.369107951269046e-09 in the domain [-1, 1] using degree 12\n"
          ]
        },
        {
          "ename": "TypeError",
          "evalue": "Polynomial types differ",
          "output_type": "error",
          "traceback": [
            "\u001b[0;31m---------------------------------------------------------------------------\u001b[0m",
            "\u001b[0;31mTypeError\u001b[0m                                 Traceback (most recent call last)",
            "Cell \u001b[0;32mIn[9], line 29\u001b[0m\n\u001b[1;32m     25\u001b[0m laurent_poly \u001b[38;5;241m=\u001b[39m PolynomialToLaurentForm(poly_even\u001b[38;5;241m.\u001b[39mcoef)\n\u001b[1;32m     26\u001b[0m \u001b[38;5;66;03m# print(laurent_poly, \"\\ntype:\", type(laurent_poly))\u001b[39;00m\n\u001b[1;32m     27\u001b[0m \n\u001b[1;32m     28\u001b[0m \u001b[38;5;66;03m# Compute full phases (and reduced phases, parity) using symmetric QSP.\u001b[39;00m\n\u001b[0;32m---> 29\u001b[0m (phiset) \u001b[38;5;241m=\u001b[39m \u001b[43mangle_sequence\u001b[49m\u001b[38;5;241;43m.\u001b[39;49m\u001b[43mQuantumSignalProcessingPhases\u001b[49m\u001b[43m(\u001b[49m\n\u001b[1;32m     30\u001b[0m \u001b[43m    \u001b[49m\u001b[43mpoly\u001b[49m\u001b[43m \u001b[49m\u001b[38;5;241;43m=\u001b[39;49m\u001b[43m \u001b[49m\u001b[43mpoly_coefs\u001b[49m\u001b[43m,\u001b[49m\n\u001b[1;32m     31\u001b[0m \u001b[43m    \u001b[49m\u001b[43mmethod\u001b[49m\u001b[38;5;241;43m=\u001b[39;49m\u001b[38;5;124;43m'\u001b[39;49m\u001b[38;5;124;43mlaurent\u001b[39;49m\u001b[38;5;124;43m'\u001b[39;49m\u001b[43m,\u001b[49m\n\u001b[1;32m     32\u001b[0m \u001b[43m    \u001b[49m\u001b[43mchebyshev_basis\u001b[49m\u001b[38;5;241;43m=\u001b[39;49m\u001b[38;5;28;43;01mFalse\u001b[39;49;00m\u001b[43m,\u001b[49m\n\u001b[1;32m     33\u001b[0m \u001b[43m)\u001b[49m\n\u001b[1;32m     35\u001b[0m \u001b[38;5;124;03m\"\"\"\u001b[39;00m\n\u001b[1;32m     36\u001b[0m \u001b[38;5;124;03mPlot response according to full phases.\u001b[39;00m\n\u001b[1;32m     37\u001b[0m \u001b[38;5;124;03mNote that `pcoefs` are coefficients of the approximating polynomial,\u001b[39;00m\n\u001b[1;32m     38\u001b[0m \u001b[38;5;124;03mwhile `target` is the true function (rescaled) being approximated.\u001b[39;00m\n\u001b[1;32m     39\u001b[0m \u001b[38;5;124;03m\"\"\"\u001b[39;00m\n\u001b[1;32m     40\u001b[0m \u001b[38;5;66;03m# response.PlotQSPResponse(\u001b[39;00m\n\u001b[1;32m     41\u001b[0m \u001b[38;5;66;03m#     phiset,\u001b[39;00m\n\u001b[1;32m     42\u001b[0m \u001b[38;5;66;03m#     pcoefs=laurent_poly,\u001b[39;00m\n\u001b[0;32m   (...)\u001b[0m\n\u001b[1;32m     47\u001b[0m \u001b[38;5;66;03m#     simul_error_plot=True\u001b[39;00m\n\u001b[1;32m     48\u001b[0m \u001b[38;5;66;03m# )\u001b[39;00m\n",
            "File \u001b[0;32m~/cs_courses/cs190h/qa_w25/Research_project/pyqsp_mod/pyqsp/angle_sequence.py:187\u001b[0m, in \u001b[0;36mQuantumSignalProcessingPhases\u001b[0;34m(poly, eps, suc, signal_operator, measurement, tolerance, method, chebyshev_basis, **kwargs)\u001b[0m\n\u001b[1;32m    183\u001b[0m \u001b[38;5;66;03m# Perform completion\u001b[39;00m\n\u001b[1;32m    184\u001b[0m \u001b[38;5;28;01mif\u001b[39;00m model \u001b[38;5;129;01min\u001b[39;00m {(\u001b[38;5;124m\"\u001b[39m\u001b[38;5;124mWx\u001b[39m\u001b[38;5;124m\"\u001b[39m, \u001b[38;5;124m\"\u001b[39m\u001b[38;5;124mx\u001b[39m\u001b[38;5;124m\"\u001b[39m), (\u001b[38;5;124m\"\u001b[39m\u001b[38;5;124mWz\u001b[39m\u001b[38;5;124m\"\u001b[39m, \u001b[38;5;124m\"\u001b[39m\u001b[38;5;124mz\u001b[39m\u001b[38;5;124m\"\u001b[39m)}:\n\u001b[1;32m    185\u001b[0m     \u001b[38;5;66;03m# Capitalization: eps/2 amount of error budget is put to the highest power for sake of numerical stability. We are assured to be in the Chebyshev basis.\u001b[39;00m\n\u001b[1;32m    186\u001b[0m     poly \u001b[38;5;241m=\u001b[39m suc \u001b[38;5;241m*\u001b[39m \\\n\u001b[0;32m--> 187\u001b[0m          (\u001b[43mpoly\u001b[49m\u001b[43m \u001b[49m\u001b[38;5;241;43m+\u001b[39;49m\u001b[43m \u001b[49m\u001b[43mChebyshev\u001b[49m\u001b[43m(\u001b[49m\u001b[43m[\u001b[49m\u001b[38;5;241;43m0\u001b[39;49m\u001b[43m,\u001b[49m\u001b[43m \u001b[49m\u001b[43m]\u001b[49m\u001b[43m \u001b[49m\u001b[38;5;241;43m*\u001b[39;49m\u001b[43m \u001b[49m\u001b[43mpoly\u001b[49m\u001b[38;5;241;43m.\u001b[39;49m\u001b[43mdegree\u001b[49m\u001b[43m(\u001b[49m\u001b[43m)\u001b[49m\u001b[43m \u001b[49m\u001b[38;5;241;43m+\u001b[39;49m\u001b[43m \u001b[49m\u001b[43m[\u001b[49m\u001b[43meps\u001b[49m\u001b[43m \u001b[49m\u001b[38;5;241;43m/\u001b[39;49m\u001b[43m \u001b[49m\u001b[38;5;241;43m2\u001b[39;49m\u001b[43m,\u001b[49m\u001b[43m \u001b[49m\u001b[43m]\u001b[49m\u001b[43m)\u001b[49m)\n\u001b[1;32m    189\u001b[0m     lcoefs \u001b[38;5;241m=\u001b[39m poly2laurent(poly\u001b[38;5;241m.\u001b[39mcoef)\n\u001b[1;32m    190\u001b[0m     lalg \u001b[38;5;241m=\u001b[39m completion_from_root_finding(lcoefs, coef_type\u001b[38;5;241m=\u001b[39m\u001b[38;5;124m\"\u001b[39m\u001b[38;5;124mF\u001b[39m\u001b[38;5;124m\"\u001b[39m)\n",
            "File \u001b[0;32m~/anaconda3/envs/qa-w25/lib/python3.10/site-packages/numpy/polynomial/_polybase.py:534\u001b[0m, in \u001b[0;36mABCPolyBase.__add__\u001b[0;34m(self, other)\u001b[0m\n\u001b[1;32m    533\u001b[0m \u001b[38;5;28;01mdef\u001b[39;00m\u001b[38;5;250m \u001b[39m\u001b[38;5;21m__add__\u001b[39m(\u001b[38;5;28mself\u001b[39m, other):\n\u001b[0;32m--> 534\u001b[0m     othercoef \u001b[38;5;241m=\u001b[39m \u001b[38;5;28;43mself\u001b[39;49m\u001b[38;5;241;43m.\u001b[39;49m\u001b[43m_get_coefficients\u001b[49m\u001b[43m(\u001b[49m\u001b[43mother\u001b[49m\u001b[43m)\u001b[49m\n\u001b[1;32m    535\u001b[0m     \u001b[38;5;28;01mtry\u001b[39;00m:\n\u001b[1;32m    536\u001b[0m         coef \u001b[38;5;241m=\u001b[39m \u001b[38;5;28mself\u001b[39m\u001b[38;5;241m.\u001b[39m_add(\u001b[38;5;28mself\u001b[39m\u001b[38;5;241m.\u001b[39mcoef, othercoef)\n",
            "File \u001b[0;32m~/anaconda3/envs/qa-w25/lib/python3.10/site-packages/numpy/polynomial/_polybase.py:283\u001b[0m, in \u001b[0;36mABCPolyBase._get_coefficients\u001b[0;34m(self, other)\u001b[0m\n\u001b[1;32m    281\u001b[0m \u001b[38;5;28;01mif\u001b[39;00m \u001b[38;5;28misinstance\u001b[39m(other, ABCPolyBase):\n\u001b[1;32m    282\u001b[0m     \u001b[38;5;28;01mif\u001b[39;00m \u001b[38;5;129;01mnot\u001b[39;00m \u001b[38;5;28misinstance\u001b[39m(other, \u001b[38;5;28mself\u001b[39m\u001b[38;5;241m.\u001b[39m\u001b[38;5;18m__class__\u001b[39m):\n\u001b[0;32m--> 283\u001b[0m         \u001b[38;5;28;01mraise\u001b[39;00m \u001b[38;5;167;01mTypeError\u001b[39;00m(\u001b[38;5;124m\"\u001b[39m\u001b[38;5;124mPolynomial types differ\u001b[39m\u001b[38;5;124m\"\u001b[39m)\n\u001b[1;32m    284\u001b[0m     \u001b[38;5;28;01melif\u001b[39;00m \u001b[38;5;129;01mnot\u001b[39;00m np\u001b[38;5;241m.\u001b[39mall(\u001b[38;5;28mself\u001b[39m\u001b[38;5;241m.\u001b[39mdomain \u001b[38;5;241m==\u001b[39m other\u001b[38;5;241m.\u001b[39mdomain):\n\u001b[1;32m    285\u001b[0m         \u001b[38;5;28;01mraise\u001b[39;00m \u001b[38;5;167;01mTypeError\u001b[39;00m(\u001b[38;5;124m\"\u001b[39m\u001b[38;5;124mDomains differ\u001b[39m\u001b[38;5;124m\"\u001b[39m)\n",
            "\u001b[0;31mTypeError\u001b[0m: Polynomial types differ"
          ]
        }
      ],
      "source": [
        "# Specify definite-parity target function for QSP.\n",
        "func = lambda x: np.cos(3*x)\n",
        "polydeg = 12 # Desired QSP protocol length.\n",
        "max_scale = 0.9 # Maximum norm (<1) for rescaling.\n",
        "true_func = lambda x: max_scale * func(x) # For error, include scale.\n",
        "\n",
        "\"\"\"\n",
        "With PolyTaylorSeries class, compute Chebyshev interpolant to degree\n",
        "'polydeg' (using twice as many Chebyshev nodes to prevent aliasing).\n",
        "\"\"\"\n",
        "poly = PolyTaylorSeries().taylor_series(\n",
        "    func=func,\n",
        "    degree=polydeg,\n",
        "    max_scale=max_scale,\n",
        "    chebyshev_basis=False,\n",
        ")\n",
        "\n",
        "poly_coefs = poly.coef.copy()\n",
        "# Set odd coefficients to zero to ensure definite parity.\n",
        "poly_coefs[1::2] = 0\n",
        "print(poly_coefs, \"\\ntype:\", type(poly_coefs))\n",
        "poly_even = type(poly)(poly_coefs)\n",
        "print(poly_even.coef, \"\\ntype:\", type(poly_even))\n",
        "\n",
        "laurent_poly = PolynomialToLaurentForm(poly_even.coef)\n",
        "# print(laurent_poly, \"\\ntype:\", type(laurent_poly))\n",
        "\n",
        "# Compute full phases (and reduced phases, parity) using symmetric QSP.\n",
        "(phiset) = angle_sequence.QuantumSignalProcessingPhases(\n",
        "    poly = poly_coefs,\n",
        "    method='laurent',\n",
        "    chebyshev_basis=False,\n",
        ")\n",
        "\n",
        "\"\"\"\n",
        "Plot response according to full phases.\n",
        "Note that `pcoefs` are coefficients of the approximating polynomial,\n",
        "while `target` is the true function (rescaled) being approximated.\n",
        "\"\"\"\n",
        "# response.PlotQSPResponse(\n",
        "#     phiset,\n",
        "#     pcoefs=laurent_poly,\n",
        "#     plot_probability=True,\n",
        "#     target=true_func,\n",
        "#     sym_qsp=True,\n",
        "#     plot_real_only=False,\n",
        "#     simul_error_plot=True\n",
        "# )\n",
        "\n"
      ]
    },
    {
      "cell_type": "code",
      "execution_count": null,
      "metadata": {
        "colab": {
          "base_uri": "https://localhost:8080/",
          "height": 505
        },
        "id": "DLlDZVLj0U9c",
        "outputId": "fb391378-d987-4961-a303-8fc03070c2a9"
      },
      "outputs": [
        {
          "ename": "NameError",
          "evalue": "name 'phiset' is not defined",
          "output_type": "error",
          "traceback": [
            "\u001b[0;31m---------------------------------------------------------------------------\u001b[0m",
            "\u001b[0;31mNameError\u001b[0m                                 Traceback (most recent call last)",
            "Cell \u001b[0;32mIn[3], line 70\u001b[0m\n\u001b[1;32m     68\u001b[0m U00_real \u001b[38;5;241m=\u001b[39m []\n\u001b[1;32m     69\u001b[0m \u001b[38;5;28;01mfor\u001b[39;00m a \u001b[38;5;129;01min\u001b[39;00m a_vals:\n\u001b[0;32m---> 70\u001b[0m     U \u001b[38;5;241m=\u001b[39m build_unitary_wz(a, \u001b[43mphiset\u001b[49m)\n\u001b[1;32m     71\u001b[0m     U00_real\u001b[38;5;241m.\u001b[39mappend(np\u001b[38;5;241m.\u001b[39mreal(U[\u001b[38;5;241m0\u001b[39m,\u001b[38;5;241m0\u001b[39m]))\n\u001b[1;32m     73\u001b[0m U00_real \u001b[38;5;241m=\u001b[39m np\u001b[38;5;241m.\u001b[39marray(U00_real)\n",
            "\u001b[0;31mNameError\u001b[0m: name 'phiset' is not defined"
          ]
        }
      ],
      "source": [
        "##############################################################################\n",
        "# 1. Define the W_z operator and the X-rotation operator\n",
        "##############################################################################\n",
        "\n",
        "def W_z(a):\n",
        "    \"\"\"\n",
        "    'Wz' convention operator for QSP:\n",
        "      W_z(a) = diag(a + i sqrt(1-a^2), a - i sqrt(1-a^2)).\n",
        "    This is a Z-rotation-like matrix encoding the signal 'a' in the diagonal.\n",
        "    \"\"\"\n",
        "    sqrt_term = np.sqrt(1 - a*a)\n",
        "    return np.array([\n",
        "        [a + 1j*sqrt_term, 0],\n",
        "        [0,               a - 1j*sqrt_term]\n",
        "    ], dtype=complex)\n",
        "\n",
        "def X_rotation(phi):\n",
        "    \"\"\"\n",
        "    X-rotation operator: exp(i phi X).\n",
        "\n",
        "    In the standard basis, e^{i phi X} =\n",
        "        [[ cos(phi),  i sin(phi)],\n",
        "         [ i sin(phi), cos(phi)]]\n",
        "    (One can confirm this by the usual 2x2 matrix exponential of i*phi*X.)\n",
        "    \"\"\"\n",
        "    c = np.cos(phi)\n",
        "    s = np.sin(phi)\n",
        "    return np.array([\n",
        "        [    c,  1j*s],\n",
        "        [ 1j*s,    c ]\n",
        "    ], dtype=complex)\n",
        "\n",
        "##############################################################################\n",
        "# 2. Build the QSP unitary from a full list of phases in the W_z convention\n",
        "##############################################################################\n",
        "\n",
        "def build_unitary_wz(a, phases):\n",
        "    \"\"\"\n",
        "    Given:\n",
        "      - a in [-1, 1],\n",
        "      - phases: a list/array [phi_0, phi_1, ..., phi_N],\n",
        "    build the QSP unitary U_z(a) in the 'Wz' convention:\n",
        "\n",
        "       U_z(a) = X_rotation(phi_0) W_z(a)\n",
        "                 X_rotation(phi_1) W_z(a)\n",
        "                 ...\n",
        "                 X_rotation(phi_N) W_z(a)\n",
        "\n",
        "    Returns a 2x2 complex matrix.\n",
        "    \"\"\"\n",
        "    U = np.eye(2, dtype=complex)\n",
        "    for phi in phases:\n",
        "        U = X_rotation(phi) @ W_z(a) @ U\n",
        "    return U\n",
        "\n",
        "##############################################################################\n",
        "# 3. Example usage:\n",
        "#    - We'll define some arbitrary 'phases' for demonstration.\n",
        "#    - We'll build the QSP unitary for each a in [-1,1].\n",
        "#    - We'll plot the imaginary part of U[0,0].\n",
        "##############################################################################\n",
        "\n",
        "if __name__ == \"__main__\":\n",
        "    # Suppose we already have a full list of phases from a QSP solver or a random guess\n",
        "    full_phases = [0.2, -0.15, 0.3, 0.1]  # arbitrary example\n",
        "\n",
        "    a_vals = np.linspace(-1, 1, 200)\n",
        "    U00_real = []\n",
        "    for a in a_vals:\n",
        "        U = build_unitary_wz(a, phiset)\n",
        "        U00_real.append(np.real(U[0,0]))\n",
        "\n",
        "    U00_real = np.array(U00_real)\n",
        "    target_vals = true_func(a_vals)\n",
        "\n",
        "    # Compute the maximum absolute error.\n",
        "    max_error = np.max(np.abs(U00_real - target_vals))\n",
        "    print(\"Maximum absolute error between Re[U(0,0)] and target function:\", max_error)\n",
        "\n",
        "    # ============================================================================\n",
        "    # 9. Plot the comparison.\n",
        "    # ============================================================================\n",
        "    plt.figure(figsize=(8,5))\n",
        "    plt.plot(a_vals, U00_real, label=\"Computed Re[U(0,0)]\", linewidth=2)\n",
        "    plt.plot(a_vals, target_vals, 'k--', label=\"Target function\", linewidth=2)\n",
        "    plt.xlabel(\"a (cos(theta))\")\n",
        "    plt.ylabel(\"Re[U(0,0)]\")\n",
        "    plt.title(\"Embedding of target function in Re[U(0,0)]\")\n",
        "    plt.legend()\n",
        "    plt.grid(True)\n",
        "    plt.show()"
      ]
    },
    {
      "cell_type": "code",
      "execution_count": null,
      "metadata": {
        "id": "slkRXkIX0XGy"
      },
      "outputs": [],
      "source": []
    }
  ],
  "metadata": {
    "colab": {
      "provenance": []
    },
    "kernelspec": {
      "display_name": "qa-w25",
      "language": "python",
      "name": "python3"
    },
    "language_info": {
      "codemirror_mode": {
        "name": "ipython",
        "version": 3
      },
      "file_extension": ".py",
      "mimetype": "text/x-python",
      "name": "python",
      "nbconvert_exporter": "python",
      "pygments_lexer": "ipython3",
      "version": "3.10.16"
    }
  },
  "nbformat": 4,
  "nbformat_minor": 0
}
