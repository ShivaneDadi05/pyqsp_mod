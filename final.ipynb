{
  "cells": [
    {
      "cell_type": "code",
      "execution_count": 1,
      "metadata": {
        "id": "8oIB82eQzune"
      },
      "outputs": [],
      "source": [
        "import numpy as np\n",
        "import pyqsp\n",
        "from pyqsp import angle_sequence, response\n",
        "import math as mt\n",
        "from pyqsp.poly import (polynomial_generators, PolyTaylorSeries, PolyCosineTX)\n",
        "from pyqsp.LPoly import PolynomialToLaurentForm\n",
        "import matplotlib.pyplot as plt"
      ]
    },
    {
      "cell_type": "code",
      "execution_count": null,
      "metadata": {
        "colab": {
          "base_uri": "https://localhost:8080/",
          "height": 394
        },
        "id": "0Jzr8vwH0Af6",
        "outputId": "ecd8ef1a-abab-43fa-cef1-1f2f2405f391"
      },
      "outputs": [
        {
          "name": "stdout",
          "output_type": "stream",
          "text": [
            "[PolyTaylorSeries] (Cheb) max 0.9000000052343468 is at 2.3085984214033306e-07: normalizing\n",
            "[PolyTaylorSeries] (Cheb) average error = 3.369107951269046e-09 in the domain [-1, 1] using degree 12\n",
            "[-2.34046761e-01  0.00000000e+00 -8.74964274e-01  0.00000000e+00\n",
            "  2.37661532e-01  0.00000000e+00 -2.05090783e-02  0.00000000e+00\n",
            "  8.88195202e-04  0.00000000e+00 -2.32710331e-05  0.00000000e+00\n",
            "  4.09630583e-07] type: <class 'numpy.ndarray'>\n",
            "1.0000746660976431e-10 * w ^ (-12) + -2.1525528659740313e-08 * w ^ (-10) + 3.2488568193529807e-06 * w ^ (-8) + -0.00029369889981305816 * w ^ (-6) + 0.013025588465425602 * w ^ (-4) + -0.16394290112822135 * w ^ (-2) + -0.5885776787245731 * w ^ (0) + -0.16394290112822135 * w ^ (2) + 0.013025588465425602 * w ^ (4) + -0.00029369889981305816 * w ^ (6) + 3.2488568193529807e-06 * w ^ (8) + -2.1525528659740313e-08 * w ^ (10) + 1.0000746660976431e-10 * w ^ (12) type: <class 'pyqsp.LPoly.LPoly'>\n"
          ]
        },
        {
          "data": {
            "text/plain": [
              "'\\nPlot response according to full phases.\\nNote that `pcoefs` are coefficients of the approximating polynomial,\\nwhile `target` is the true function (rescaled) being approximated.\\n'"
            ]
          },
          "execution_count": 3,
          "metadata": {},
          "output_type": "execute_result"
        }
      ],
      "source": [
        "# Specify definite-parity target function for QSP.\n",
        "func = lambda x: np.cos(3*x)\n",
        "polydeg = 12 # Desired QSP protocol length.\n",
        "max_scale = 0.9 # Maximum norm (<1) for rescaling.\n",
        "true_func = lambda x: max_scale * func(x) # For error, include scale.\n",
        "\n",
        "\"\"\"\n",
        "With PolyTaylorSeries class, compute Chebyshev interpolant to degree\n",
        "'polydeg' (using twice as many Chebyshev nodes to prevent aliasing).\n",
        "\"\"\"\n",
        "poly = PolyTaylorSeries().taylor_series(\n",
        "    func=func,\n",
        "    degree=polydeg,\n",
        "    max_scale=max_scale,\n",
        "    chebyshev_basis=False,\n",
        ")\n",
        "\n",
        "poly_coefs = poly.coef.copy()\n",
        "# Set odd coefficients to zero to ensure definite parity.\n",
        "poly_coefs[1::2] = 0\n",
        "print(poly_coefs, \"\\ntype:\", type(poly_coefs))\n",
        "poly_even = type(poly)(poly_coefs)\n",
        "\n",
        "\n",
        "laurent_poly = PolynomialToLaurentForm(poly_even.coef)\n",
        "print(laurent_poly, \"\\ntype:\", type(laurent_poly))\n",
        "\n",
        "# Compute full phases (and reduced phases, parity) using symmetric QSP.\n",
        "# (phiset) = angle_sequence.QuantumSignalProcessingPhases(\n",
        "#     poly,\n",
        "#     method='laurent',\n",
        "#     chebyshev_basis=False,\n",
        "# )\n",
        "\"\"\"\n",
        "Plot response according to full phases.\n",
        "Note that `pcoefs` are coefficients of the approximating polynomial,\n",
        "while `target` is the true function (rescaled) being approximated.\n",
        "\"\"\"\n",
        "# response.PlotQSPResponse(\n",
        "#     phiset,\n",
        "#     pcoefs=laurent_poly,\n",
        "#     plot_probability=True,\n",
        "#     target=true_func,\n",
        "#     sym_qsp=True,\n",
        "#     plot_real_only=False,\n",
        "#     simul_error_plot=True\n",
        "# )\n",
        "\n"
      ]
    },
    {
      "cell_type": "code",
      "execution_count": 3,
      "metadata": {
        "colab": {
          "base_uri": "https://localhost:8080/",
          "height": 505
        },
        "id": "DLlDZVLj0U9c",
        "outputId": "fb391378-d987-4961-a303-8fc03070c2a9"
      },
      "outputs": [
        {
          "ename": "NameError",
          "evalue": "name 'phiset' is not defined",
          "output_type": "error",
          "traceback": [
            "\u001b[0;31m---------------------------------------------------------------------------\u001b[0m",
            "\u001b[0;31mNameError\u001b[0m                                 Traceback (most recent call last)",
            "Cell \u001b[0;32mIn[3], line 70\u001b[0m\n\u001b[1;32m     68\u001b[0m U00_real \u001b[38;5;241m=\u001b[39m []\n\u001b[1;32m     69\u001b[0m \u001b[38;5;28;01mfor\u001b[39;00m a \u001b[38;5;129;01min\u001b[39;00m a_vals:\n\u001b[0;32m---> 70\u001b[0m     U \u001b[38;5;241m=\u001b[39m build_unitary_wz(a, \u001b[43mphiset\u001b[49m)\n\u001b[1;32m     71\u001b[0m     U00_real\u001b[38;5;241m.\u001b[39mappend(np\u001b[38;5;241m.\u001b[39mreal(U[\u001b[38;5;241m0\u001b[39m,\u001b[38;5;241m0\u001b[39m]))\n\u001b[1;32m     73\u001b[0m U00_real \u001b[38;5;241m=\u001b[39m np\u001b[38;5;241m.\u001b[39marray(U00_real)\n",
            "\u001b[0;31mNameError\u001b[0m: name 'phiset' is not defined"
          ]
        }
      ],
      "source": [
        "##############################################################################\n",
        "# 1. Define the W_z operator and the X-rotation operator\n",
        "##############################################################################\n",
        "\n",
        "def W_z(a):\n",
        "    \"\"\"\n",
        "    'Wz' convention operator for QSP:\n",
        "      W_z(a) = diag(a + i sqrt(1-a^2), a - i sqrt(1-a^2)).\n",
        "    This is a Z-rotation-like matrix encoding the signal 'a' in the diagonal.\n",
        "    \"\"\"\n",
        "    sqrt_term = np.sqrt(1 - a*a)\n",
        "    return np.array([\n",
        "        [a + 1j*sqrt_term, 0],\n",
        "        [0,               a - 1j*sqrt_term]\n",
        "    ], dtype=complex)\n",
        "\n",
        "def X_rotation(phi):\n",
        "    \"\"\"\n",
        "    X-rotation operator: exp(i phi X).\n",
        "\n",
        "    In the standard basis, e^{i phi X} =\n",
        "        [[ cos(phi),  i sin(phi)],\n",
        "         [ i sin(phi), cos(phi)]]\n",
        "    (One can confirm this by the usual 2x2 matrix exponential of i*phi*X.)\n",
        "    \"\"\"\n",
        "    c = np.cos(phi)\n",
        "    s = np.sin(phi)\n",
        "    return np.array([\n",
        "        [    c,  1j*s],\n",
        "        [ 1j*s,    c ]\n",
        "    ], dtype=complex)\n",
        "\n",
        "##############################################################################\n",
        "# 2. Build the QSP unitary from a full list of phases in the W_z convention\n",
        "##############################################################################\n",
        "\n",
        "def build_unitary_wz(a, phases):\n",
        "    \"\"\"\n",
        "    Given:\n",
        "      - a in [-1, 1],\n",
        "      - phases: a list/array [phi_0, phi_1, ..., phi_N],\n",
        "    build the QSP unitary U_z(a) in the 'Wz' convention:\n",
        "\n",
        "       U_z(a) = X_rotation(phi_0) W_z(a)\n",
        "                 X_rotation(phi_1) W_z(a)\n",
        "                 ...\n",
        "                 X_rotation(phi_N) W_z(a)\n",
        "\n",
        "    Returns a 2x2 complex matrix.\n",
        "    \"\"\"\n",
        "    U = np.eye(2, dtype=complex)\n",
        "    for phi in phases:\n",
        "        U = X_rotation(phi) @ W_z(a) @ U\n",
        "    return U\n",
        "\n",
        "##############################################################################\n",
        "# 3. Example usage:\n",
        "#    - We'll define some arbitrary 'phases' for demonstration.\n",
        "#    - We'll build the QSP unitary for each a in [-1,1].\n",
        "#    - We'll plot the imaginary part of U[0,0].\n",
        "##############################################################################\n",
        "\n",
        "if __name__ == \"__main__\":\n",
        "    # Suppose we already have a full list of phases from a QSP solver or a random guess\n",
        "    full_phases = [0.2, -0.15, 0.3, 0.1]  # arbitrary example\n",
        "\n",
        "    a_vals = np.linspace(-1, 1, 200)\n",
        "    U00_real = []\n",
        "    for a in a_vals:\n",
        "        U = build_unitary_wz(a, phiset)\n",
        "        U00_real.append(np.real(U[0,0]))\n",
        "\n",
        "    U00_real = np.array(U00_real)\n",
        "    target_vals = true_func(a_vals)\n",
        "\n",
        "    # Compute the maximum absolute error.\n",
        "    max_error = np.max(np.abs(U00_real - target_vals))\n",
        "    print(\"Maximum absolute error between Re[U(0,0)] and target function:\", max_error)\n",
        "\n",
        "    # ============================================================================\n",
        "    # 9. Plot the comparison.\n",
        "    # ============================================================================\n",
        "    plt.figure(figsize=(8,5))\n",
        "    plt.plot(a_vals, U00_real, label=\"Computed Re[U(0,0)]\", linewidth=2)\n",
        "    plt.plot(a_vals, target_vals, 'k--', label=\"Target function\", linewidth=2)\n",
        "    plt.xlabel(\"a (cos(theta))\")\n",
        "    plt.ylabel(\"Re[U(0,0)]\")\n",
        "    plt.title(\"Embedding of target function in Re[U(0,0)]\")\n",
        "    plt.legend()\n",
        "    plt.grid(True)\n",
        "    plt.show()"
      ]
    },
    {
      "cell_type": "code",
      "execution_count": null,
      "metadata": {
        "id": "slkRXkIX0XGy"
      },
      "outputs": [],
      "source": []
    }
  ],
  "metadata": {
    "colab": {
      "provenance": []
    },
    "kernelspec": {
      "display_name": "qa-w25",
      "language": "python",
      "name": "python3"
    },
    "language_info": {
      "codemirror_mode": {
        "name": "ipython",
        "version": 3
      },
      "file_extension": ".py",
      "mimetype": "text/x-python",
      "name": "python",
      "nbconvert_exporter": "python",
      "pygments_lexer": "ipython3",
      "version": "3.10.16"
    }
  },
  "nbformat": 4,
  "nbformat_minor": 0
}
